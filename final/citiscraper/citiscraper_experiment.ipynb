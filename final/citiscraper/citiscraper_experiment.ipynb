{
 "metadata": {
  "name": "citiscraper_experiment"
 },
 "nbformat": 3,
 "nbformat_minor": 0,
 "worksheets": [
  {
   "cells": [
    {
     "cell_type": "code",
     "collapsed": false,
     "input": [
      "import urllib2\n",
      "import json\n",
      "import csv"
     ],
     "language": "python",
     "metadata": {},
     "outputs": [],
     "prompt_number": 35
    },
    {
     "cell_type": "code",
     "collapsed": false,
     "input": [
      "csvfile = open('test.csv', 'a+')\n",
      "csvwriter = csv.writer(csvfile)"
     ],
     "language": "python",
     "metadata": {},
     "outputs": [],
     "prompt_number": 66
    },
    {
     "cell_type": "code",
     "collapsed": false,
     "input": [
      "response = urllib2.urlopen('http://citibikenyc.com/stations/json')"
     ],
     "language": "python",
     "metadata": {},
     "outputs": [],
     "prompt_number": 11
    },
    {
     "cell_type": "code",
     "collapsed": false,
     "input": [
      "citijson = response.read()"
     ],
     "language": "python",
     "metadata": {},
     "outputs": [],
     "prompt_number": 12
    },
    {
     "cell_type": "code",
     "collapsed": false,
     "input": [
      "response.close"
     ],
     "language": "python",
     "metadata": {},
     "outputs": [
      {
       "output_type": "pyout",
       "prompt_number": 13,
       "text": [
        "<bound method addinfourl.close of <addinfourl at 4454939104 whose fp = <socket._fileobject object at 0x1097b2f50>>>"
       ]
      }
     ],
     "prompt_number": 13
    },
    {
     "cell_type": "code",
     "collapsed": false,
     "input": [
      "data = json.loads(citijson)"
     ],
     "language": "python",
     "metadata": {},
     "outputs": [],
     "prompt_number": 17
    },
    {
     "cell_type": "code",
     "collapsed": false,
     "input": [
      "csvfile = open('test.csv', 'a+')\n",
      "csvwriter = csv.writer(csvfile)\n",
      "\n",
      "for station in data['stationBeanList']:\n",
      "    stationid = station['id']\n",
      "    availDocks = station['availableDocks']\n",
      "    totalDocks = station['totalDocks']\n",
      "    lastComm = station['lastCommunicationTime']\n",
      "    status = station['statusKey']\n",
      "    availBikes = station['availableBikes']\n",
      "    csvwriter.writerow([data['executionTime'],stationid,availBikes,availDocks,totalDocks,status,lastComm])\n",
      "\n",
      "csvfile.close()"
     ],
     "language": "python",
     "metadata": {},
     "outputs": [],
     "prompt_number": 70
    },
    {
     "cell_type": "code",
     "collapsed": false,
     "input": [
      "csvwriter.writerow([data['executionTime'],stationid,availBikes,availDocks,totalDocks,status,lastComm])"
     ],
     "language": "python",
     "metadata": {},
     "outputs": [],
     "prompt_number": 67
    },
    {
     "cell_type": "code",
     "collapsed": false,
     "input": [
      "csvwriter.writerow(['test','one','two'])"
     ],
     "language": "python",
     "metadata": {},
     "outputs": [],
     "prompt_number": 68
    },
    {
     "cell_type": "code",
     "collapsed": false,
     "input": [
      "csvfile.close()"
     ],
     "language": "python",
     "metadata": {},
     "outputs": [],
     "prompt_number": 69
    },
    {
     "cell_type": "code",
     "collapsed": false,
     "input": [
      "?file"
     ],
     "language": "python",
     "metadata": {},
     "outputs": [],
     "prompt_number": 57
    },
    {
     "cell_type": "code",
     "collapsed": false,
     "input": [],
     "language": "python",
     "metadata": {},
     "outputs": []
    }
   ],
   "metadata": {}
  }
 ]
}