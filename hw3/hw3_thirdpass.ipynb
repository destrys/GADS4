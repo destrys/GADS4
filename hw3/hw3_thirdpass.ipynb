{
 "metadata": {
  "name": "hw3_thirdpass"
 },
 "nbformat": 3,
 "nbformat_minor": 0,
 "worksheets": [
  {
   "cells": [
    {
     "cell_type": "markdown",
     "metadata": {},
     "source": [
      "### imports"
     ]
    },
    {
     "cell_type": "code",
     "collapsed": false,
     "input": [
      "import numpy as np\n",
      "import matplotlib.pyplot as plt\n",
      "import csv\n",
      "from sklearn.feature_extraction.text import CountVectorizer\n",
      "from sklearn.linear_model import LogisticRegression\n",
      "from sklearn.naive_bayes import MultinomialNB\n",
      "from sklearn import metrics\n",
      "from sklearn.cross_validation import cross_val_score,KFold\n",
      "from sklearn.metrics import auc_score"
     ],
     "language": "python",
     "metadata": {},
     "outputs": [],
     "prompt_number": 36
    },
    {
     "cell_type": "markdown",
     "metadata": {},
     "source": [
      "### Load All Data"
     ]
    },
    {
     "cell_type": "code",
     "collapsed": false,
     "input": [
      "# Raw Train File\n",
      "with open('train.csv','r') as inputfile:\n",
      "    traindata = np.array([row for row in csv.reader(inputfile,delimiter = ',',quotechar='\"')])\n",
      "traindata = traindata[1:,:]\n",
      "\n",
      "# Utf-8 Train File\n",
      "with open('train-utf8.csv','r') as inputfile:\n",
      "    traindata_utf = np.array([row for row in csv.reader(inputfile,delimiter = ',',quotechar='\"')])\n",
      "traindata_utf = traindata_utf[1:,:]\n",
      "\n",
      "# Raw Test File\n",
      "with open('test.csv','r') as inputfile:\n",
      "    testdata = np.array([row for row  in csv.reader(inputfile,delimiter = ',',quotechar='\"')])\n",
      "testdata = testdata[1:,:]\n",
      "\n",
      "# utf-8 Test File\n",
      "with open('test-utf8.csv','r') as inputfile:\n",
      "    testdata_utf = np.array([row for row in csv.reader(inputfile,delimiter = ',', quotechar='\"')])\n",
      "testdata_utf = testdata_utf[1:,:]"
     ],
     "language": "python",
     "metadata": {},
     "outputs": [],
     "prompt_number": 18
    },
    {
     "cell_type": "markdown",
     "metadata": {},
     "source": [
      "### I want to test regularization values (my own slow way for now) so here's a function using cross_val_score"
     ]
    },
    {
     "cell_type": "code",
     "collapsed": false,
     "input": [
      "vec = CountVectorizer()\n",
      "X_train = vec.fit_transform(traindata[:,2])"
     ],
     "language": "python",
     "metadata": {},
     "outputs": [],
     "prompt_number": 25
    },
    {
     "cell_type": "code",
     "collapsed": false,
     "input": [
      "cross_val_score(LogisticRegression(),X_train,traindata[:,0].astype('int'),score_func=auc_score)"
     ],
     "language": "python",
     "metadata": {},
     "outputs": [
      {
       "output_type": "pyout",
       "prompt_number": 26,
       "text": [
        "array([ 0.74403727,  0.76480331,  0.743378  ])"
       ]
      }
     ],
     "prompt_number": 26
    },
    {
     "cell_type": "code",
     "collapsed": false,
     "input": [
      "def TestLogisticRegularization(data,n_lambdas=10,penalty='l1',maxngrams=1):\n",
      "    # Set up constant array:\n",
      "    C_values = linspace(0.001,1,n_lambdas)\n",
      "    meanauc = zeros(n_lambdas)\n",
      "    # Set up data\n",
      "    vec = CountVectorizer()\n",
      "    X_train = vec.fit_transform(data[:,2])\n",
      "    Y_train = data[:,0].astype('int')\n",
      "    cv_est = KFold(len(Y_train),n_folds=10,shuffle=True)\n",
      "    for i in xrange(n_lambdas):\n",
      "        meanauc[i] = mean(cross_val_score(LogisticRegression(penalty='l1',C=C_values[i]),X_train,Y_train,score_func=auc_score,cv=cv_est))\n",
      "    return(zip(meanauc,C_values))"
     ],
     "language": "python",
     "metadata": {},
     "outputs": [],
     "prompt_number": 45
    },
    {
     "cell_type": "code",
     "collapsed": false,
     "input": [
      "bare = TestLogisticRegularization(traindata,50)\n",
      "print max(np.asarray(bare)[:,0])"
     ],
     "language": "python",
     "metadata": {},
     "outputs": [
      {
       "output_type": "stream",
       "stream": "stdout",
       "text": [
        "0.755162899927\n"
       ]
      }
     ],
     "prompt_number": 49
    },
    {
     "cell_type": "markdown",
     "metadata": {},
     "source": [
      "What's odd here is that I was seeing approx. 0.86 AUC scores when I used my own CV function..."
     ]
    },
    {
     "cell_type": "code",
     "collapsed": false,
     "input": [
      "fold = np.random.randint(0,10,len(traindata))\n",
      "vec = CountVectorizer()\n",
      "X_train = vec.fit_transform(traindata[fold != 1,2])\n",
      "Y_train = traindata[fold !=1, 0].astype('int')\n",
      "classifier = LogisticRegression().fit(X_train, Y_train)\n",
      "X_cv = vec.transform(traindata[fold ==1,2])\n",
      "Y_cv = traindata[fold ==1,0].astype('int')\n",
      "Y_cv_pred = classifier.predict_proba(X_cv)\n",
      "print metrics.auc_score(Y_cv,Y_cv_pred[:,1])"
     ],
     "language": "python",
     "metadata": {},
     "outputs": [
      {
       "output_type": "stream",
       "stream": "stdout",
       "text": [
        "0.839297606113\n"
       ]
      }
     ],
     "prompt_number": 51
    },
    {
     "cell_type": "code",
     "collapsed": false,
     "input": [
      "plot(Y_cv_pred,'b+')"
     ],
     "language": "python",
     "metadata": {},
     "outputs": [
      {
       "output_type": "pyout",
       "prompt_number": 52,
       "text": [
        "[<matplotlib.lines.Line2D at 0x1250a4bd0>,\n",
        " <matplotlib.lines.Line2D at 0x1250a4e10>]"
       ]
      },
      {
       "output_type": "display_data",
       "png": "[encoded data removed]"
      }
     ],
     "prompt_number": 52
    },
    {
     "cell_type": "code",
     "collapsed": false,
     "input": [
      "plot(classifier.predict(X_cv),'b+')"
     ],
     "language": "python",
     "metadata": {},
     "outputs": [
      {
       "output_type": "pyout",
       "prompt_number": 53,
       "text": [
        "[<matplotlib.lines.Line2D at 0x120671f50>]"
       ]
      },
      {
       "output_type": "display_data",
       "png": "[encoded data removed]"
      }
     ],
     "prompt_number": 53
    },
    {
     "cell_type": "code",
     "collapsed": false,
     "input": [
      "print metrics.auc_score(Y_cv,classifier.predict(X_cv))"
     ],
     "language": "python",
     "metadata": {},
     "outputs": [
      {
       "output_type": "stream",
       "stream": "stdout",
       "text": [
        "0.751550944587\n"
       ]
      }
     ],
     "prompt_number": 54
    },
    {
     "cell_type": "markdown",
     "metadata": {},
     "source": [
      "### Solved that little mystery.\n",
      "\n",
      "Looks like cross_val_score uses .predict(), __not__ .predict_prob() in it's scoring."
     ]
    },
    {
     "cell_type": "code",
     "collapsed": false,
     "input": [],
     "language": "python",
     "metadata": {},
     "outputs": []
    }
   ],
   "metadata": {}
  }
 ]
}